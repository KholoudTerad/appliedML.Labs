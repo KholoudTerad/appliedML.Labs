{
  "nbformat": 4,
  "nbformat_minor": 0,
  "metadata": {
    "colab": {
      "provenance": []
    },
    "kernelspec": {
      "name": "python3",
      "display_name": "Python 3"
    },
    "language_info": {
      "name": "python"
    }
  },
  "cells": [
    {
      "cell_type": "code",
      "execution_count": null,
      "metadata": {
        "id": "pl8Mh4PBnh80"
      },
      "outputs": [],
      "source": [
        "from matplotlib import pyplot as plt\n",
        "from sklearn.datasets import make_moons\n",
        "from sklearn.metrics import accuracy_score\n",
        "from sklearn.model_selection import train_test_split\n",
        "\n",
        "#the Moon dataset\n",
        "X,y = make_moons(n_samples=1000, noise=0.1, random_state=42)\n",
        "x_train, x_test, y_train, y_test = train_test_split(X,y, test_size=0.2, random_state=42)"
      ]
    },
    {
      "cell_type": "code",
      "source": [
        "#1\n",
        "\n",
        "from sklearn.ensemble import BaggingClassifier\n",
        "from sklearn.tree import DecisionTreeClassifier\n",
        "\n",
        "#Create a BaggingClassifier\n",
        "clf_bagg = BaggingClassifier(DecisionTreeClassifier(),n_estimators=500,max_samples=100,bootstrap=True,n_jobs=-1,random_state=42)\n",
        "\n",
        "#Train the model and Predict the labels of the test data\n",
        "clf_bagg.fit(x_train,y_train)\n",
        "y_pred_bagg = clf_bagg.predict(x_test)\n",
        "\n",
        "#Accuracy score\n",
        "print(\"Accuracy score:\", accuracy_score(y_test,y_pred_bagg))"
      ],
      "metadata": {
        "colab": {
          "base_uri": "https://localhost:8080/"
        },
        "id": "Ww9oVM-tqXOw",
        "outputId": "968ecb35-feff-46fd-9748-86e55ab254a5"
      },
      "execution_count": null,
      "outputs": [
        {
          "output_type": "stream",
          "name": "stdout",
          "text": [
            "Accuracy score: 0.985\n"
          ]
        }
      ]
    },
    {
      "cell_type": "code",
      "source": [
        "#2\n",
        "\n",
        "from sklearn.ensemble import RandomForestClassifier\n",
        "\n",
        "#Create a RandomForestClassifier\n",
        "clf_rf = RandomForestClassifier(n_estimators=500,max_leaf_nodes=16,n_jobs=-1,random_state=42)\n",
        "\n",
        "#Train the model and Predict the labels of the test data\n",
        "clf_rf.fit(x_train,y_train)\n",
        "y_pred_rf = clf_rf.predict(x_test)\n",
        "\n",
        "#Accuracy score\n",
        "accuracy = accuracy_score(y_test,y_pred_rf)\n",
        "print(\"Accuracy score:\", accuracy)"
      ],
      "metadata": {
        "colab": {
          "base_uri": "https://localhost:8080/"
        },
        "id": "cvpPh2f_vEm3",
        "outputId": "4a8f15a1-ddc4-4dac-86d1-b1d01602b9e8"
      },
      "execution_count": null,
      "outputs": [
        {
          "output_type": "stream",
          "name": "stdout",
          "text": [
            "Accuracy score: 1.0\n"
          ]
        }
      ]
    },
    {
      "cell_type": "code",
      "source": [
        "#3\n",
        "\n",
        "from sklearn.ensemble import AdaBoostClassifier\n",
        "\n",
        "#Create an AdaBoostClassifier\n",
        "ada_clf = AdaBoostClassifier(DecisionTreeClassifier(max_depth=1),n_estimators=200,algorithm=\"SAMME.R\",learning_rate=0.5,random_state=42)\n",
        "\n",
        "#Train the model and Predict the labels of the test data\n",
        "ada_clf.fit(x_train, y_train)\n",
        "y_pred = ada_clf.predict(x_test)\n",
        "\n",
        "#Accuracy score\n",
        "accuracy = accuracy_score(y_test, y_pred)\n",
        "print(\"Accuracy score:\", accuracy)"
      ],
      "metadata": {
        "colab": {
          "base_uri": "https://localhost:8080/"
        },
        "id": "7sz4Dkkoy9zO",
        "outputId": "640dc47c-bdaf-4ee3-86b0-c75655f56aff"
      },
      "execution_count": null,
      "outputs": [
        {
          "output_type": "stream",
          "name": "stdout",
          "text": [
            "Accuracy score: 0.995\n"
          ]
        }
      ]
    }
  ]
}